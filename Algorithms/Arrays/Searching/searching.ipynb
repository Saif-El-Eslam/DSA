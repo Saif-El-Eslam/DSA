{
 "cells": [
  {
   "cell_type": "markdown",
   "metadata": {},
   "source": [
    "# **Introduction to Searching Algorithms**\n",
    "\n",
    "Searching algorithms are methods used to find an element or group of elements in a collection, such as an array, list, or database. The efficiency of these algorithms significantly affects the performance of systems, particularly those handling large datasets.\n"
   ]
  },
  {
   "cell_type": "markdown",
   "metadata": {},
   "source": [
    "## **Importance of Searching Algorithms**\n",
    "\n",
    "- Efficiency: Optimized searching algorithms save time and computational resources, especially when dealing with large datasets.\n",
    "- Foundational: Searching is a fundamental operation in computer science, used in:\n",
    "  - Databases (e.g., querying records)\n",
    "  - Web search engines (e.g., finding relevant web pages)\n",
    "  - File systems (e.g., locating files)\n",
    "- Applications:\n",
    "  - Artificial Intelligence: Pathfinding and decision-making.\n",
    "  - E-commerce: Product searches and recommendations.\n",
    "  - Data Analysis: Retrieving specific data points or insights.\n",
    "- Integration with Sorting: Many algorithms, such as binary search, require the dataset to be sorted, emphasizing the interplay between searching and sorting.\n"
   ]
  },
  {
   "cell_type": "markdown",
   "metadata": {},
   "source": [
    "## **Common Algorithms**\n",
    "\n",
    "1. Linear Search: Linear search sequentially checks each element of the collection until the target element is found or the collection ends.\n",
    "2. Binary Search: Binary search works on sorted datasets by dividing the search space in half repeatedly until the target is found or the search space is empty.\n",
    "3. Two Pointers Technique: Utilizes two pointers that traverse the collection in a specific manner (e.g., one starts from the beginning, the other from the end) to solve search-related problems efficiently.\n"
   ]
  },
  {
   "cell_type": "markdown",
   "metadata": {},
   "source": [
    "| Algorithm     | Best Case | Average Case | Worst Case | Space Complexity |\n",
    "| ------------- | --------- | ------------ | ---------- | ---------------- |\n",
    "| Linear Search | O(1)      | O(n)         | O(n)       | O(1)             |\n",
    "| Binary Search | O(1)      | O(log n)     | O(log n)   | O(1) (iterative) |\n",
    "| Two Pointers  | O(1)      | O(n)         | O(n)       | O(1)             |\n"
   ]
  },
  {
   "cell_type": "markdown",
   "metadata": {},
   "source": [
    "## **Conclusion**\n",
    "\n",
    "Choosing the right searching algorithm depends on the nature of the data (sorted/unsorted) and the application's requirements. Linear search is versatile but slow, binary search is efficient for sorted data, and advanced techniques like jump or interpolation search cater to specific use cases. Understanding their complexities and applications is crucial for developing high-performance systems.\n"
   ]
  },
  {
   "cell_type": "markdown",
   "metadata": {},
   "source": [
    "## **Resources**\n",
    "\n",
    "- https://www.geeksforgeeks.org/searching-algorithms/\n",
    "\n",
    "### **Vidualization**\n",
    "\n",
    "- https://visualgo.net/en\n"
   ]
  }
 ],
 "metadata": {
  "language_info": {
   "name": "python"
  }
 },
 "nbformat": 4,
 "nbformat_minor": 2
}
